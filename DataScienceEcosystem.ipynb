{
 "cells": [
  {
   "cell_type": "markdown",
   "id": "f1fbbb36-86b8-492e-b7a8-bbaaa241c31b",
   "metadata": {},
   "source": [
    "# Data Science Tools and Ecosystem"
   ]
  },
  {
   "cell_type": "markdown",
   "id": "5680925f-3c54-4f9b-b7e6-d9c2c3ad3832",
   "metadata": {},
   "source": [
    "In this notebook, Data Science Tools and Ecosystem are summarized "
   ]
  },
  {
   "cell_type": "markdown",
   "id": "92cb9a2f-e7c0-4495-9fc8-aa3b1ac25325",
   "metadata": {},
   "source": [
    "**Objectives**\n",
    "* List Popular langauges for Data Science\n",
    "* List commonly used libraries in Data Science\n",
    "* Evaluate arithmetic expressions in Jupyter Notebook\n",
    "*  ...and more"
   ]
  },
  {
   "cell_type": "markdown",
   "id": "2f7128fe-0fea-4bff-81aa-eaa5a644cda4",
   "metadata": {},
   "source": [
    "Some of the popular languages that data scientists use are:\n",
    "1. Python\n",
    "2. R\n",
    "3. Julia"
   ]
  },
  {
   "cell_type": "markdown",
   "id": "d718058a-ae9b-4871-9652-34454d8fc70d",
   "metadata": {},
   "source": [
    "Some of the commonly used libraries used by Data Scientists include\n",
    "1. Pandas (Python)\n",
    "2. Numpy (Python)\n",
    "3. Matplotlib (python)\n",
    "4. Scikit-learn\n",
    "5. Plotly\n",
    "6. Seaborn"
   ]
  },
  {
   "cell_type": "markdown",
   "id": "df89d1e9-e1b3-4a5a-9cd0-ed64215f5cf3",
   "metadata": {},
   "source": [
    "| Data Science Tools |\n",
    "|----------|\n",
    "| Jupyter Notebook |\n",
    "| Apache Spark |\n",
    "| RStudio |"
   ]
  },
  {
   "cell_type": "markdown",
   "id": "53897682-f509-4d2a-8cfd-f83b6d58adf7",
   "metadata": {},
   "source": [
    "### Below are a few examples of evalulating arithmetic expressions in Python\n",
    "  "
   ]
  },
  {
   "cell_type": "code",
   "execution_count": 1,
   "id": "824c8eb4-eec0-4ab1-8099-d749ff175658",
   "metadata": {},
   "outputs": [
    {
     "data": {
      "text/plain": [
       "17"
      ]
     },
     "execution_count": 1,
     "metadata": {},
     "output_type": "execute_result"
    }
   ],
   "source": [
    "#This is a simple arithmetic expression to multiply then add integers\n",
    "3*4+5"
   ]
  },
  {
   "cell_type": "code",
   "execution_count": 2,
   "id": "b0a045dc-e2ba-4580-ad61-06c37ffddd78",
   "metadata": {},
   "outputs": [
    {
     "data": {
      "text/plain": [
       "3.3333333333333335"
      ]
     },
     "execution_count": 2,
     "metadata": {},
     "output_type": "execute_result"
    }
   ],
   "source": [
    "#This will convert 200 mintes to hours by dividing by 60\n",
    "200/60"
   ]
  },
  {
   "cell_type": "markdown",
   "id": "5501c38b-99d1-46fc-bd99-c850a57517d6",
   "metadata": {},
   "source": [
    "## Author\n",
    "Aitor Estarlich"
   ]
  },
  {
   "cell_type": "code",
   "execution_count": null,
   "id": "f4f8c871-ee6b-4aca-a035-a87e6bc13e07",
   "metadata": {},
   "outputs": [],
   "source": []
  }
 ],
 "metadata": {
  "kernelspec": {
   "display_name": "Python 3 (ipykernel)",
   "language": "python",
   "name": "python3"
  },
  "language_info": {
   "codemirror_mode": {
    "name": "ipython",
    "version": 3
   },
   "file_extension": ".py",
   "mimetype": "text/x-python",
   "name": "python",
   "nbconvert_exporter": "python",
   "pygments_lexer": "ipython3",
   "version": "3.11.7"
  }
 },
 "nbformat": 4,
 "nbformat_minor": 5
}
